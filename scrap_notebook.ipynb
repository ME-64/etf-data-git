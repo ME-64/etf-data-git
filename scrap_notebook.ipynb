{
 "cells": [
  {
   "cell_type": "code",
   "execution_count": 1,
   "metadata": {
    "scrolled": true
   },
   "outputs": [],
   "source": [
    "from etfscraper import Etf_scrape"
   ]
  },
  {
   "cell_type": "code",
   "execution_count": 2,
   "metadata": {},
   "outputs": [],
   "source": [
    "etf = Etf_scrape(debug=False)"
   ]
  },
  {
   "cell_type": "code",
   "execution_count": null,
   "metadata": {},
   "outputs": [],
   "source": [
    "df = etf.jpmBDP(isins = 'IE00BD9MMG79', datapoints='investment_objective')"
   ]
  },
  {
   "cell_type": "code",
   "execution_count": 4,
   "metadata": {},
   "outputs": [
    {
     "data": {
      "text/html": [
       "<div>\n",
       "<style scoped>\n",
       "    .dataframe tbody tr th:only-of-type {\n",
       "        vertical-align: middle;\n",
       "    }\n",
       "\n",
       "    .dataframe tbody tr th {\n",
       "        vertical-align: top;\n",
       "    }\n",
       "\n",
       "    .dataframe thead th {\n",
       "        text-align: right;\n",
       "    }\n",
       "</style>\n",
       "<table border=\"1\" class=\"dataframe\">\n",
       "  <thead>\n",
       "    <tr style=\"text-align: right;\">\n",
       "      <th>DATAPOINT</th>\n",
       "      <th>SOURCE</th>\n",
       "      <th>SOURCE_DATE</th>\n",
       "    </tr>\n",
       "    <tr>\n",
       "      <th>ISIN</th>\n",
       "      <th></th>\n",
       "      <th></th>\n",
       "    </tr>\n",
       "  </thead>\n",
       "  <tbody>\n",
       "    <tr>\n",
       "      <th>IE00BD9MMG79</th>\n",
       "      <td>https://am.jpmorgan.com/</td>\n",
       "      <td>2019-12-30</td>\n",
       "    </tr>\n",
       "  </tbody>\n",
       "</table>\n",
       "</div>"
      ],
      "text/plain": [
       "DATAPOINT                       SOURCE SOURCE_DATE\n",
       "ISIN                                              \n",
       "IE00BD9MMG79  https://am.jpmorgan.com/  2019-12-30"
      ]
     },
     "execution_count": 4,
     "metadata": {},
     "output_type": "execute_result"
    }
   ],
   "source": [
    "df"
   ]
  },
  {
   "cell_type": "code",
   "execution_count": 4,
   "metadata": {},
   "outputs": [],
   "source": [
    "from selenium.webdriver.common.by import By"
   ]
  },
  {
   "cell_type": "code",
   "execution_count": 3,
   "metadata": {},
   "outputs": [
    {
     "data": {
      "text/html": [
       "<div>\n",
       "<style scoped>\n",
       "    .dataframe tbody tr th:only-of-type {\n",
       "        vertical-align: middle;\n",
       "    }\n",
       "\n",
       "    .dataframe tbody tr th {\n",
       "        vertical-align: top;\n",
       "    }\n",
       "\n",
       "    .dataframe thead th {\n",
       "        text-align: right;\n",
       "    }\n",
       "</style>\n",
       "<table border=\"1\" class=\"dataframe\">\n",
       "  <thead>\n",
       "    <tr style=\"text-align: right;\">\n",
       "      <th></th>\n",
       "      <th>Name</th>\n",
       "      <th>ISIN</th>\n",
       "      <th>Asset class</th>\n",
       "      <th>Country</th>\n",
       "      <th>Currency</th>\n",
       "      <th>Weight</th>\n",
       "      <th>Base market\n",
       "value</th>\n",
       "      <th>Price</th>\n",
       "      <th>asof</th>\n",
       "      <th>etf_isin</th>\n",
       "    </tr>\n",
       "  </thead>\n",
       "  <tbody>\n",
       "    <tr>\n",
       "      <th>0</th>\n",
       "      <td>FRANCE (GOVT  0% 05/25/22/EUR/</td>\n",
       "      <td>FR0013219177</td>\n",
       "      <td>Govt - Bond</td>\n",
       "      <td>France</td>\n",
       "      <td>EUR</td>\n",
       "      <td>0.0393748</td>\n",
       "      <td>3.5173e+06</td>\n",
       "      <td>101.48</td>\n",
       "      <td>2019-12-27</td>\n",
       "      <td>ie00bddrf148</td>\n",
       "    </tr>\n",
       "    <tr>\n",
       "      <th>1</th>\n",
       "      <td>BUONI POLI 4.75% 09/01/21/EUR/</td>\n",
       "      <td>IT0004695075</td>\n",
       "      <td>Govt - Bond</td>\n",
       "      <td>Italy</td>\n",
       "      <td>EUR</td>\n",
       "      <td>0.0371474</td>\n",
       "      <td>3.31833e+06</td>\n",
       "      <td>108.124</td>\n",
       "      <td>2019-12-27</td>\n",
       "      <td>ie00bddrf148</td>\n",
       "    </tr>\n",
       "    <tr>\n",
       "      <th>2</th>\n",
       "      <td>BUONI POLIE 0.9% 08/01/22/EUR/</td>\n",
       "      <td>IT0005277444</td>\n",
       "      <td>Govt - Bond</td>\n",
       "      <td>Italy</td>\n",
       "      <td>EUR</td>\n",
       "      <td>0.0339271</td>\n",
       "      <td>3.03067e+06</td>\n",
       "      <td>102.077</td>\n",
       "      <td>2019-12-27</td>\n",
       "      <td>ie00bddrf148</td>\n",
       "    </tr>\n",
       "    <tr>\n",
       "      <th>3</th>\n",
       "      <td>FRANCE (GOVT  0% 02/25/21/EUR/</td>\n",
       "      <td>FR0013311016</td>\n",
       "      <td>Govt - Bond</td>\n",
       "      <td>France</td>\n",
       "      <td>EUR</td>\n",
       "      <td>0.0316614</td>\n",
       "      <td>2.82827e+06</td>\n",
       "      <td>100.722</td>\n",
       "      <td>2019-12-27</td>\n",
       "      <td>ie00bddrf148</td>\n",
       "    </tr>\n",
       "    <tr>\n",
       "      <th>4</th>\n",
       "      <td>FRANCE (GOVT  3% 04/25/22/EUR/</td>\n",
       "      <td>FR0011196856</td>\n",
       "      <td>Govt - Bond</td>\n",
       "      <td>France</td>\n",
       "      <td>EUR</td>\n",
       "      <td>0.0300581</td>\n",
       "      <td>2.68505e+06</td>\n",
       "      <td>108.487</td>\n",
       "      <td>2019-12-27</td>\n",
       "      <td>ie00bddrf148</td>\n",
       "    </tr>\n",
       "  </tbody>\n",
       "</table>\n",
       "</div>"
      ],
      "text/plain": [
       "                             Name          ISIN  Asset class Country Currency  \\\n",
       "0  FRANCE (GOVT  0% 05/25/22/EUR/  FR0013219177  Govt - Bond  France      EUR   \n",
       "1  BUONI POLI 4.75% 09/01/21/EUR/  IT0004695075  Govt - Bond   Italy      EUR   \n",
       "2  BUONI POLIE 0.9% 08/01/22/EUR/  IT0005277444  Govt - Bond   Italy      EUR   \n",
       "3  FRANCE (GOVT  0% 02/25/21/EUR/  FR0013311016  Govt - Bond  France      EUR   \n",
       "4  FRANCE (GOVT  3% 04/25/22/EUR/  FR0011196856  Govt - Bond  France      EUR   \n",
       "\n",
       "      Weight Base market\\nvalue    Price       asof      etf_isin  \n",
       "0  0.0393748         3.5173e+06   101.48 2019-12-27  ie00bddrf148  \n",
       "1  0.0371474        3.31833e+06  108.124 2019-12-27  ie00bddrf148  \n",
       "2  0.0339271        3.03067e+06  102.077 2019-12-27  ie00bddrf148  \n",
       "3  0.0316614        2.82827e+06  100.722 2019-12-27  ie00bddrf148  \n",
       "4  0.0300581        2.68505e+06  108.487 2019-12-27  ie00bddrf148  "
      ]
     },
     "execution_count": 3,
     "metadata": {},
     "output_type": "execute_result"
    }
   ],
   "source": [
    "hds = etf.jpmPORT(isins = ['IE00BYVZV757','IE00BDDRF148'])\n",
    "hds.head()"
   ]
  },
  {
   "cell_type": "code",
   "execution_count": null,
   "metadata": {},
   "outputs": [],
   "source": [
    "By.CSS_SELECTOR,"
   ]
  },
  {
   "cell_type": "code",
   "execution_count": null,
   "metadata": {},
   "outputs": [],
   "source": [
    "from selenium.webdriver.support.expected_conditions import pr"
   ]
  },
  {
   "cell_type": "code",
   "execution_count": 23,
   "metadata": {},
   "outputs": [],
   "source": [
    "df.to_csv('full.csv')"
   ]
  },
  {
   "cell_type": "code",
   "execution_count": 6,
   "metadata": {},
   "outputs": [],
   "source": [
    "isins =['IE00BYVZV757', 'IE00BJK9HD13', 'IE00BD9MMC32', 'IE00BJK9H753', 'IE00BJK9H860', 'IE00BJK3WG17', 'IE00BJK3WF00', 'IE00BD9MMD49', 'IE00BK6Q9938', \n",
    "        'IE00BJK9HH50', 'IE00BDDRF148', 'IE00BDDRF254', 'IE00BF4G7308', 'IE00BF59RW70', 'IE00BF59RX87', 'IE00BD9MMF62', 'IE00BF4G7183', 'IE00BG47J908', \n",
    "        'IE00BD9MMG79', 'IE00BF4G6Z54', 'IE00BJRCLL96', 'IE00BF4G6Y48', 'IE00BF2SYS28', 'IE00BF2SYT35', 'IE00BF4G7290', 'IE00BJRCLK89', 'IE00BF4G7076', \n",
    "        'IE00BJ06C044', 'IE00BF59RV63', 'IE00BDDRDY39', 'IE00BJLTWS02', 'IE00BJ06C937', 'IE00BDFC6G93', 'IE00BG8BCY43', 'IE00BDFC6Q91'] "
   ]
  },
  {
   "cell_type": "code",
   "execution_count": 7,
   "metadata": {},
   "outputs": [],
   "source": [
    "html = '<span class=\"font-16 text-middle\"><span class=\"font-16 text-middle line-height-22 margin-bottom-10 riskProfileItemContainer\"><p></p><p>The Sub-Fund aims to provide current income while seeking to maintain a low volatility of principal.</p><p></p>'"
   ]
  },
  {
   "cell_type": "code",
   "execution_count": 5,
   "metadata": {},
   "outputs": [],
   "source": [
    "from bs4 import BeautifulSoup"
   ]
  },
  {
   "cell_type": "code",
   "execution_count": 8,
   "metadata": {},
   "outputs": [
    {
     "data": {
      "text/plain": [
       "'The Sub-Fund aims to provide current income while seeking to maintain a low volatility of principal.'"
      ]
     },
     "execution_count": 8,
     "metadata": {},
     "output_type": "execute_result"
    }
   ],
   "source": [
    "soup = BeautifulSoup(html)\n",
    "soup.get_text()"
   ]
  },
  {
   "cell_type": "code",
   "execution_count": 9,
   "metadata": {},
   "outputs": [
    {
     "data": {
      "text/plain": [
       "str"
      ]
     },
     "execution_count": 9,
     "metadata": {},
     "output_type": "execute_result"
    }
   ],
   "source": [
    "t = soup.get_text()\n",
    "\n",
    "type(t)"
   ]
  },
  {
   "cell_type": "code",
   "execution_count": 11,
   "metadata": {},
   "outputs": [
    {
     "data": {
      "text/plain": [
       "'the sub-fund aims to provide current income while seeking to maintain a low volatility of principal.'"
      ]
     },
     "execution_count": 11,
     "metadata": {},
     "output_type": "execute_result"
    }
   ],
   "source": [
    "t.lower()"
   ]
  },
  {
   "cell_type": "code",
   "execution_count": 10,
   "metadata": {},
   "outputs": [],
   "source": [
    "from selenium import webdriver\n",
    "from selenium.webdriver.support.ui import WebDriverWait\n",
    "from selenium.webdriver.support import expected_conditions as EC\n",
    "from selenium.webdriver.common.by import By\n",
    "import time\n",
    "driver = webdriver.Chrome('drivers/chromedriver_win.exe')\n",
    "driver.get('https://am.jpmorgan.com/')"
   ]
  },
  {
   "cell_type": "code",
   "execution_count": 8,
   "metadata": {},
   "outputs": [],
   "source": [
    "t = driver.find_element_by_css_selector('[data-testid=' + 'fund-authorised-participants-title' + ']')"
   ]
  },
  {
   "cell_type": "code",
   "execution_count": 12,
   "metadata": {},
   "outputs": [],
   "source": [
    "driver.get('https://am.jpmorgan.com/')"
   ]
  },
  {
   "cell_type": "code",
   "execution_count": 25,
   "metadata": {},
   "outputs": [],
   "source": [
    "t = driver.find_elements_by_id(id_ = 'sad')"
   ]
  },
  {
   "cell_type": "code",
   "execution_count": 28,
   "metadata": {},
   "outputs": [],
   "source": [
    "tries = 0\n",
    "while (len(t) < 1) & (tries <= 20):\n",
    "    t = driver.find_elements_by_id(id_ = 'gsdf')\n",
    "    time.sleep(0.5)\n",
    "    tries = tries + 1\n",
    "    "
   ]
  },
  {
   "cell_type": "code",
   "execution_count": null,
   "metadata": {},
   "outputs": [],
   "source": []
  }
 ],
 "metadata": {
  "kernelspec": {
   "display_name": "Python 3",
   "language": "python",
   "name": "python3"
  },
  "language_info": {
   "codemirror_mode": {
    "name": "ipython",
    "version": 3
   },
   "file_extension": ".py",
   "mimetype": "text/x-python",
   "name": "python",
   "nbconvert_exporter": "python",
   "pygments_lexer": "ipython3",
   "version": "3.7.3"
  }
 },
 "nbformat": 4,
 "nbformat_minor": 4
}
